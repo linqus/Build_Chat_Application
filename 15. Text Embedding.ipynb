{
 "cells": [
  {
   "cell_type": "code",
   "execution_count": 1,
   "metadata": {},
   "outputs": [
    {
     "data": {
      "text/plain": [
       "Document(metadata={'Title': 'Introduction to Data Science', 'Lecture': 'Analysis vs Analytics'}, page_content='Analytics is essentially the application of logical and computational reasoning to the component parts obtained in an analysis. And in doing this you are looking for patterns and exploring what you could do with them in the future. Here, analytics branches off into two areas: qualitative analytics – this is using your intuition and experience in conjunction with the analysis to plan your next business move')"
      ]
     },
     "execution_count": 1,
     "metadata": {},
     "output_type": "execute_result"
    }
   ],
   "source": [
    "from langchain.document_loaders import Docx2txtLoader\n",
    "from langchain.text_splitter import MarkdownHeaderTextSplitter, CharacterTextSplitter\n",
    "\n",
    "loader = Docx2txtLoader('Introduction_to_Data_and_Data_Science mark.docx')\n",
    "document = loader.load()\n",
    "\n",
    "md_splitter = MarkdownHeaderTextSplitter([('#', 'Title'), ('##', 'Lecture')])\n",
    "document = md_splitter.split_text(document[0].page_content)\n",
    "\n",
    "for page in document:\n",
    "    page.page_content = ' '.join(page.page_content.split())\n",
    "\n",
    "char_splitter = CharacterTextSplitter('.', chunk_size=500, chunk_overlap=50)\n",
    "document = char_splitter.split_documents(document)\n",
    "\n",
    "document[3]"
   ]
  },
  {
   "cell_type": "code",
   "execution_count": 2,
   "metadata": {},
   "outputs": [],
   "source": [
    "from langchain_openai.embeddings import OpenAIEmbeddings"
   ]
  },
  {
   "cell_type": "code",
   "execution_count": 3,
   "metadata": {},
   "outputs": [],
   "source": [
    "embedding = OpenAIEmbeddings(model='text-embedding-ada-002')"
   ]
  },
  {
   "cell_type": "code",
   "execution_count": 4,
   "metadata": {},
   "outputs": [],
   "source": [
    "vector1 = embedding.embed_query(document[3].page_content)\n",
    "vector2 = embedding.embed_query(document[5].page_content)\n",
    "vector3 = embedding.embed_query(document[18].page_content)"
   ]
  },
  {
   "cell_type": "code",
   "execution_count": 5,
   "metadata": {},
   "outputs": [],
   "source": [
    "import numpy as np\n",
    "def cosine_similarity(v1, v2):\n",
    "    return np.dot(v1, v2) / (np.linalg.norm(v1) * np.linalg.norm(v2))"
   ]
  },
  {
   "cell_type": "code",
   "execution_count": 6,
   "metadata": {},
   "outputs": [
    {
     "data": {
      "text/plain": [
       "(0.8791285420133947, 0.8000236462981486, 0.793499439813541)"
      ]
     },
     "execution_count": 6,
     "metadata": {},
     "output_type": "execute_result"
    }
   ],
   "source": [
    "cosine_similarity(vector1, vector2), cosine_similarity(vector1, vector3), cosine_similarity(vector2, vector3)"
   ]
  },
  {
   "cell_type": "code",
   "execution_count": 7,
   "metadata": {},
   "outputs": [
    {
     "data": {
      "text/plain": [
       "(0.8791284497943928, 0.80002358287471, 0.7934993700101873)"
      ]
     },
     "execution_count": 7,
     "metadata": {},
     "output_type": "execute_result"
    }
   ],
   "source": [
    "np.dot(vector1, vector2), np.dot(vector1, vector3), np.dot(vector2, vector3)"
   ]
  },
  {
   "cell_type": "code",
   "execution_count": null,
   "metadata": {},
   "outputs": [],
   "source": []
  }
 ],
 "metadata": {
  "kernelspec": {
   "display_name": "build_chat",
   "language": "python",
   "name": "python3"
  },
  "language_info": {
   "codemirror_mode": {
    "name": "ipython",
    "version": 3
   },
   "file_extension": ".py",
   "mimetype": "text/x-python",
   "name": "python",
   "nbconvert_exporter": "python",
   "pygments_lexer": "ipython3",
   "version": "3.11.11"
  }
 },
 "nbformat": 4,
 "nbformat_minor": 2
}
