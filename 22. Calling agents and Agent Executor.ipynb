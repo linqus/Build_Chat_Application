{
 "cells": [
  {
   "cell_type": "code",
   "execution_count": 16,
   "metadata": {},
   "outputs": [],
   "source": [
    "from langchain_community.utilities import WikipediaAPIWrapper\n",
    "from langchain_community.tools import WikipediaQueryRun\n",
    "from langchain_chroma.vectorstores import Chroma\n",
    "\n",
    "from langchain_openai.chat_models import ChatOpenAI\n",
    "from langchain_openai.embeddings import OpenAIEmbeddings\n",
    "\n",
    "from langchain.tools.retriever import create_retriever_tool\n",
    "from langchain.tools import tool\n",
    "\n",
    "from langchain import hub\n",
    "from platform import python_version\n",
    "\n",
    "from langchain.agents import create_tool_calling_agent, AgentExecutor"
   ]
  },
  {
   "cell_type": "code",
   "execution_count": 17,
   "metadata": {},
   "outputs": [],
   "source": [
    "wikipedia_tool = WikipediaQueryRun(api_wrapper=WikipediaAPIWrapper())"
   ]
  },
  {
   "cell_type": "code",
   "execution_count": 45,
   "metadata": {},
   "outputs": [],
   "source": [
    "vectorstore = Chroma(persist_directory='.chromadb_intro_to_data_science/', embedding_function=OpenAIEmbeddings())\n",
    "retriever = vectorstore.as_retriever(search_type='mmr', search_kwargs={'k':3, 'lambda_mult':0.7})\n",
    "retriever_tool = create_retriever_tool(\n",
    "    retriever=retriever,\n",
    "    name='search_data_science',\n",
    "    description=\"\"\"For any questions regarding the \n",
    "    Introduction to Data and Data Science course you must use this tool.\n",
    "    \"\"\"\n",
    ")"
   ]
  },
  {
   "cell_type": "code",
   "execution_count": 36,
   "metadata": {},
   "outputs": [],
   "source": [
    "@tool\n",
    "def get_python_version() -> str:\n",
    "    ''' Usefull for questions regarding the version od Python currently used. '''\n",
    "    return python_version()\n",
    "\n"
   ]
  },
  {
   "cell_type": "code",
   "execution_count": 47,
   "metadata": {},
   "outputs": [],
   "source": [
    "tools = [wikipedia_tool,  retriever_tool, get_python_version]"
   ]
  },
  {
   "cell_type": "code",
   "execution_count": 30,
   "metadata": {},
   "outputs": [],
   "source": [
    "chat = ChatOpenAI(model='gpt-4', temperature=0, seed=365)"
   ]
  },
  {
   "cell_type": "code",
   "execution_count": 31,
   "metadata": {},
   "outputs": [
    {
     "name": "stderr",
     "output_type": "stream",
     "text": [
      "c:\\code\\python\\Build_Chat_Application\\.venv\\Lib\\site-packages\\langsmith\\client.py:261: LangSmithMissingAPIKeyWarning: API key must be provided when using hosted LangSmith API\n",
      "  warnings.warn(\n"
     ]
    }
   ],
   "source": [
    "chat_prompt_template = hub.pull('hwchase17/openai-tools-agent')\n"
   ]
  },
  {
   "cell_type": "code",
   "execution_count": 32,
   "metadata": {},
   "outputs": [
    {
     "name": "stdout",
     "output_type": "stream",
     "text": [
      "================================\u001b[1m System Message \u001b[0m================================\n",
      "\n",
      "You are a helpful assistant\n",
      "\n",
      "=============================\u001b[1m Messages Placeholder \u001b[0m=============================\n",
      "\n",
      "\u001b[33;1m\u001b[1;3m{chat_history}\u001b[0m\n",
      "\n",
      "================================\u001b[1m Human Message \u001b[0m=================================\n",
      "\n",
      "\u001b[33;1m\u001b[1;3m{input}\u001b[0m\n",
      "\n",
      "=============================\u001b[1m Messages Placeholder \u001b[0m=============================\n",
      "\n",
      "\u001b[33;1m\u001b[1;3m{agent_scratchpad}\u001b[0m\n"
     ]
    }
   ],
   "source": [
    "chat_prompt_template.pretty_print()"
   ]
  },
  {
   "cell_type": "code",
   "execution_count": 48,
   "metadata": {},
   "outputs": [],
   "source": [
    "agent = create_tool_calling_agent(\n",
    "    tools=tools, \n",
    "    llm=chat, \n",
    "    prompt=chat_prompt_template\n",
    ")"
   ]
  },
  {
   "cell_type": "code",
   "execution_count": 49,
   "metadata": {},
   "outputs": [],
   "source": [
    "agent_executor = AgentExecutor(agent=agent, tools=tools, verbose=True, return_intermediate_steps=True) "
   ]
  },
  {
   "cell_type": "code",
   "execution_count": 59,
   "metadata": {},
   "outputs": [
    {
     "name": "stdout",
     "output_type": "stream",
     "text": [
      "\n",
      "\n",
      "\u001b[1m> Entering new AgentExecutor chain...\u001b[0m\n",
      "\u001b[32;1m\u001b[1;3m\n",
      "Invoking: `search_data_science` with `{'query': 'programming languages used in data science'}`\n",
      "\n",
      "\n",
      "\u001b[0m\u001b[33;1m\u001b[1;3mThus, we need a lot of computational power, and we can expect people to use the languages similar to those in the big data column. Apart from R, Python, and MATLAB, other, faster languages are used like Java, JavaScript, C, C++, and Scala. Cool. What we said may be wonderful, but that’s not all! By using one or more programming languages, people create application software or, as they are sometimes called, software solutions, that are adjusted for specific business needs.\n",
      "\n",
      "As you can see from the infographic, R, and Python are the two most popular tools across all columns. Their biggest advantage is that they can manipulate data and are integrated within multiple data and data science software platforms. They are not just suitable for mathematical and statistical computations. In other words, R, and Python are adaptable. They can solve a wide variety of business and data-related problems from beginning to the end.\n",
      "\n",
      "Great! We hope we gave you a good idea about the level of applicability of the most frequently used programming and software tools in the field of data science. Thank you for watching!.\u001b[0m\u001b[32;1m\u001b[1;3m\n",
      "Invoking: `wikipedia` with `{'query': 'Who created R programming language'}`\n",
      "\n",
      "\n",
      "\u001b[0m\u001b[36;1m\u001b[1;3mPage: Karel (programming language)\n",
      "Summary: Karel is an educational programming language for beginners, created by Richard E. Pattis in his book Karel The Robot: A Gentle Introduction to the Art of Programming. Pattis used the language in his courses at Stanford University, California. The language is named after Karel Čapek, a Czech writer who introduced the word robot in his play R.U.R.\n",
      "\n",
      "\n",
      "\n",
      "Page: Rust (programming language)\n",
      "Summary: Rust is a general-purpose programming language emphasizing performance, type safety, and concurrency. It enforces memory safety, meaning that all references point to valid memory. It does so without a traditional garbage collector; instead,  memory safety errors and data races are prevented by the \"borrow checker\", which tracks the object lifetime of references at compile time.\n",
      "Rust does not enforce a programming paradigm, but was influenced by ideas from functional programming, including immutability, higher-order functions, algebraic data types, and pattern matching. It also supports object-oriented programming via structs, enums, traits, and methods. It is popular for systems programming.\n",
      "Software developer Graydon Hoare created Rust as a personal project while working at Mozilla Research in 2006. Mozilla officially sponsored the project in 2009. In the years following the first stable release in May 2015, Rust was adopted by companies including Amazon, Discord, Dropbox, Google (Alphabet), Meta, and Microsoft. In December 2022, it became the first language other than C and assembly to be supported in the development of the Linux kernel.\n",
      "Rust has been noted for its rapid adoption, and has been studied in programming language theory research.\n",
      "\n",
      "Page: Scratch (programming language)\n",
      "Summary: Scratch is a high-level, block-based visual programming language and website aimed primarily at children as an educational tool, with a target audience of ages 8 to 16. Users on the site can create projects on the website using a block-like interface. Scratch was conceived and designed through collaborative National Science Foundation grants awarded to Mitchel Resnick and Yasmin Kafai. Scratch is developed by the MIT Media Lab and has been translated into 70+ languages, being used in most parts of the world. Scratch is taught and used in after-school centers, schools, and colleges, as well as other public knowledge institutions. As of 15 February 2023, community statistics on the language's official website show more than 123 million projects shared by over 103 million users, and more than 95 million monthly website visits. Overall, over 1 billion total projects have been created (including unshared projects), with the site reaching its 1,000,000,000th project in April 2024.\n",
      "Scratch takes its name from a technique used by disk jockeys called \"scratching\", where vinyl records are clipped together and manipulated on a turntable to produce different sound effects and music. Like scratching, the website lets users mix together different media (including graphics, sound, and other programs) in creative ways by creating and \"remixing\" projects, like video games, animations, music, and simulations.\u001b[0m\u001b[32;1m\u001b[1;3m\n",
      "Invoking: `wikipedia` with `{'query': 'Who created Python programming language'}`\n",
      "\n",
      "\n",
      "\u001b[0m\u001b[36;1m\u001b[1;3mPage: Python (programming language)\n",
      "Summary: Python is a high-level, general-purpose programming language. Its design philosophy emphasizes code readability with the use of significant indentation.\n",
      "Python is dynamically type-checked and garbage-collected. It supports multiple programming paradigms, including structured (particularly procedural), object-oriented and functional programming. It is often described as a \"batteries included\" language due to its comprehensive standard library.\n",
      "Guido van Rossum began working on Python in the late 1980s as a successor to the ABC programming language and first released it in 1991 as Python 0.9.0. Python 2.0 was released in 2000. Python 3.0, released in 2008, was a major revision not completely backward-compatible with earlier versions. Python 2.7.18, released in 2020, was the last release of Python 2.\n",
      "Python consistently ranks as one of the most popular programming languages, and has gained widespread use in the machine learning community.\n",
      "\n",
      "Page: Karel (programming language)\n",
      "Summary: Karel is an educational programming language for beginners, created by Richard E. Pattis in his book Karel The Robot: A Gentle Introduction to the Art of Programming. Pattis used the language in his courses at Stanford University, California. The language is named after Karel Čapek, a Czech writer who introduced the word robot in his play R.U.R.\n",
      "\n",
      "\n",
      "\n",
      "Page: General-purpose programming language\n",
      "Summary: In computer software, a general-purpose programming language (GPL) is a programming language for building software in a wide variety of application domains. Conversely, a domain-specific programming language (DSL) is used within a specific area. For example, Python is a GPL, while SQL is a DSL for querying relational databases.\u001b[0m\u001b[32;1m\u001b[1;3mData scientists often use programming languages like R, Python, Java, JavaScript, C, C++, and Scala. \n",
      "\n",
      "The R programming language was created by Ross Ihaka and Robert Gentleman at the University of Auckland, New Zealand.\n",
      "\n",
      "Python, another popular language in data science, was created by Guido van Rossum in the late 1980s as a successor to the ABC programming language.\n",
      "\n",
      "These languages are not just suitable for mathematical and statistical computations but are also adaptable and can solve a wide variety of business and data-related problems.\u001b[0m\n",
      "\n",
      "\u001b[1m> Finished chain.\u001b[0m\n"
     ]
    }
   ],
   "source": [
    "ret = agent_executor.invoke({'input':'I am taking Introduction to Data and Data Science Course, and wondering what programming languages do data sciencists use? Who created these languages?'})"
   ]
  },
  {
   "cell_type": "code",
   "execution_count": 57,
   "metadata": {},
   "outputs": [
    {
     "name": "stdout",
     "output_type": "stream",
     "text": [
      "{'input': 'What are software tools commonly used by data sciencists?', 'output': 'Data scientists commonly use a variety of software tools for their work. Here are some of the most popular ones:\\n\\n1. **R and Python**: These are the two most popular tools used by data scientists. They are both programming languages that are particularly strong in statistics and data analysis. They are adaptable and can solve a wide variety of business and data-related problems.\\n\\n2. **Hadoop**: This is a software framework designed to handle big data. It distributes computational tasks across multiple computers, making it an effective tool for dealing with large datasets.\\n\\n3. **Power BI, SAS, Qlik, and Tableau**: These are software tools designed for business intelligence visualizations. They allow data scientists to create interactive dashboards and reports that can help businesses make data-driven decisions.\\n\\nRemember, the best tool to use depends on the specific needs and goals of the project.', 'intermediate_steps': [(ToolAgentAction(tool='search_data_science', tool_input={'query': 'software tools for data science'}, log=\"\\nInvoking: `search_data_science` with `{'query': 'software tools for data science'}`\\n\\n\\n\", message_log=[AIMessageChunk(content='', additional_kwargs={'tool_calls': [{'index': 0, 'id': 'call_Loe8ISpOOM6DvKwNH1raR64u', 'function': {'arguments': '{\\n  \"query\": \"software tools for data science\"\\n}', 'name': 'search_data_science'}, 'type': 'function'}]}, response_metadata={'finish_reason': 'tool_calls', 'model_name': 'gpt-4-0613'}, id='run-afb0c41b-3c0a-413b-9690-956f8c6ebfb9', tool_calls=[{'name': 'search_data_science', 'args': {'query': 'software tools for data science'}, 'id': 'call_Loe8ISpOOM6DvKwNH1raR64u', 'type': 'tool_call'}], tool_call_chunks=[{'name': 'search_data_science', 'args': '{\\n  \"query\": \"software tools for data science\"\\n}', 'id': 'call_Loe8ISpOOM6DvKwNH1raR64u', 'index': 0, 'type': 'tool_call_chunk'}])], tool_call_id='call_Loe8ISpOOM6DvKwNH1raR64u'), 'As you can see from the infographic, R, and Python are the two most popular tools across all columns. Their biggest advantage is that they can manipulate data and are integrated within multiple data and data science software platforms. They are not just suitable for mathematical and statistical computations. In other words, R, and Python are adaptable. They can solve a wide variety of business and data-related problems from beginning to the end.\\n\\nGreat! We hope we gave you a good idea about the level of applicability of the most frequently used programming and software tools in the field of data science. Thank you for watching!.\\n\\nIt’s actually a software framework which was designed to address the complexity of big data and its computational intensity. Most notably, Hadoop distributes the computational tasks on multiple computers which is basically the way to handle big data nowadays. Power BI, SaS, Qlik, and especially Tableau are top-notch examples of software designed for business intelligence visualizations.')]}\n"
     ]
    }
   ],
   "source": [
    "print(ret)"
   ]
  },
  {
   "cell_type": "code",
   "execution_count": null,
   "metadata": {},
   "outputs": [],
   "source": []
  }
 ],
 "metadata": {
  "kernelspec": {
   "display_name": ".venv",
   "language": "python",
   "name": "python3"
  },
  "language_info": {
   "codemirror_mode": {
    "name": "ipython",
    "version": 3
   },
   "file_extension": ".py",
   "mimetype": "text/x-python",
   "name": "python",
   "nbconvert_exporter": "python",
   "pygments_lexer": "ipython3",
   "version": "3.11.9"
  }
 },
 "nbformat": 4,
 "nbformat_minor": 2
}
