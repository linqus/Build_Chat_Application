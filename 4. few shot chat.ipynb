{
 "cells": [
  {
   "cell_type": "code",
   "execution_count": 2,
   "metadata": {},
   "outputs": [],
   "source": [
    "from langchain_openai.chat_models import ChatOpenAI\n",
    "from langchain_core.prompts import ChatPromptTemplate, HumanMessagePromptTemplate, AIMessagePromptTemplate, FewShotChatMessagePromptTemplate"
   ]
  },
  {
   "cell_type": "code",
   "execution_count": 19,
   "metadata": {},
   "outputs": [],
   "source": [
    "chat = ChatOpenAI(model='gpt-4', temperature=0, seed=365, max_completion_tokens=100)\n"
   ]
  },
  {
   "cell_type": "code",
   "execution_count": 20,
   "metadata": {},
   "outputs": [],
   "source": [
    "TEMPLATE_H = ''' I've recently adopted {pet}. \n",
    "Could you suggest some {pet} names?'''\n",
    "TEMPLATE_AI = ''' {response} '''"
   ]
  },
  {
   "cell_type": "code",
   "execution_count": 21,
   "metadata": {},
   "outputs": [],
   "source": [
    "message_template_h = HumanMessagePromptTemplate.from_template(TEMPLATE_H)\n",
    "message_template_ai = AIMessagePromptTemplate.from_template(TEMPLATE_AI)"
   ]
  },
  {
   "cell_type": "code",
   "execution_count": 22,
   "metadata": {},
   "outputs": [],
   "source": [
    "example_template = ChatPromptTemplate.from_messages([message_template_h, message_template_ai])\n"
   ]
  },
  {
   "cell_type": "code",
   "execution_count": 33,
   "metadata": {},
   "outputs": [],
   "source": [
    "examples = [\n",
    "    {'pet':'dog', 'response': ''' Oh, sure, because I just have a list of dog names ready to go for every occasion. How about Fluffy or Spot? So original, right? '''},\n",
    "    {'pet':'cat', 'response': ''' Oh, sure, because I just have a list of cat names ready to go for every occasion. How about Furry McFurFace or Sir Maowsalot or Catastrophe? '''},\n",
    "    {'pet':'cat', 'response': ''' Oh, sure, because I just have a list of fish names ready to go for every occasion. How about Fin Diesel, Sushi or Bubbles? '''},\n",
    "]"
   ]
  },
  {
   "cell_type": "code",
   "execution_count": 34,
   "metadata": {},
   "outputs": [],
   "source": [
    "few_shot_prompt = FewShotChatMessagePromptTemplate(examples=examples, example_prompt=example_template, input_variables=['pet'])"
   ]
  },
  {
   "cell_type": "code",
   "execution_count": 35,
   "metadata": {},
   "outputs": [],
   "source": [
    "chat_template = ChatPromptTemplate.from_messages([few_shot_prompt, message_template_h])\n",
    "chat_value = chat_template.invoke({'pet':'rabbit'})"
   ]
  },
  {
   "cell_type": "code",
   "execution_count": 36,
   "metadata": {},
   "outputs": [
    {
     "name": "stdout",
     "output_type": "stream",
     "text": [
      "human:  I've recently adopted dog. \n",
      "Could you suggest some dog names?\n",
      "\n",
      "ai:   Oh, sure, because I just have a list of dog names ready to go for every occasion. How about Fluffy or Spot? So original, right?  \n",
      "\n",
      "human:  I've recently adopted cat. \n",
      "Could you suggest some cat names?\n",
      "\n",
      "ai:   Oh, sure, because I just have a list of cat names ready to go for every occasion. How about Furry McFurFace or Sir Maowsalot or Catastrophe?  \n",
      "\n",
      "human:  I've recently adopted cat. \n",
      "Could you suggest some cat names?\n",
      "\n",
      "ai:   Oh, sure, because I just have a list of fish names ready to go for every occasion. How about Fin Diesel, Sushi or Bubbles?  \n",
      "\n",
      "human:  I've recently adopted rabbit. \n",
      "Could you suggest some rabbit names?\n",
      "\n"
     ]
    }
   ],
   "source": [
    "for i in chat_value.messages:\n",
    "    print(f'{i.type}: {i.content}\\n')"
   ]
  },
  {
   "cell_type": "code",
   "execution_count": 37,
   "metadata": {},
   "outputs": [],
   "source": [
    "response = chat.invoke(chat_value)\n"
   ]
  },
  {
   "cell_type": "code",
   "execution_count": 38,
   "metadata": {},
   "outputs": [
    {
     "data": {
      "text/plain": [
       "'Of course! Here are a few suggestions: Thumper, Cinnabun, Hopper, Snowball, Daisy, Clover, or Carrot.'"
      ]
     },
     "execution_count": 38,
     "metadata": {},
     "output_type": "execute_result"
    }
   ],
   "source": [
    "response.content"
   ]
  }
 ],
 "metadata": {
  "kernelspec": {
   "display_name": "build_chat",
   "language": "python",
   "name": "python3"
  },
  "language_info": {
   "codemirror_mode": {
    "name": "ipython",
    "version": 3
   },
   "file_extension": ".py",
   "mimetype": "text/x-python",
   "name": "python",
   "nbconvert_exporter": "python",
   "pygments_lexer": "ipython3",
   "version": "3.11.11"
  }
 },
 "nbformat": 4,
 "nbformat_minor": 2
}
