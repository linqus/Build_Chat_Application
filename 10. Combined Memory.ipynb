{
 "cells": [
  {
   "cell_type": "code",
   "execution_count": 1,
   "metadata": {},
   "outputs": [],
   "source": [
    "from langchain_openai.chat_models import ChatOpenAI\n",
    "\n",
    "from langchain_core.prompts import PromptTemplate\n",
    "from langchain.chains.llm import LLMChain\n",
    "\n",
    "from langchain.memory import ConversationSummaryMemory, ConversationBufferMemory, CombinedMemory\n",
    "\n",
    "from langchain.globals import set_verbose\n",
    "set_verbose(True)"
   ]
  },
  {
   "cell_type": "code",
   "execution_count": 2,
   "metadata": {},
   "outputs": [],
   "source": [
    "chat = ChatOpenAI(\n",
    "    model='gpt-4',\n",
    "    max_completion_tokens=100,\n",
    "    temperature=0,\n",
    "    seed=365\n",
    ")"
   ]
  },
  {
   "cell_type": "code",
   "execution_count": 3,
   "metadata": {},
   "outputs": [],
   "source": [
    "TEMPLATE = \"\"\"\n",
    "The following is a friedly conversation between human and an AI.\n",
    "The AI is talkative and provides lots of specific details from its context.\n",
    "If the AI does not know the answer to a question, it thruthfully says it does not know.\n",
    "\n",
    "Past messages:\n",
    "{message_buffer_log}\n",
    "\n",
    "Conversation Summary:\n",
    "{message_summary_log}\n",
    "\n",
    "Human:\n",
    "{question}\n",
    "\n",
    "AI:\n",
    "\"\"\"\n",
    "\n",
    "prompt_template = PromptTemplate.from_template(TEMPLATE)"
   ]
  },
  {
   "cell_type": "code",
   "execution_count": 10,
   "metadata": {},
   "outputs": [],
   "source": [
    "chat_buffer_memory = ConversationBufferMemory(memory_key='message_buffer_log', input_key='question')\n",
    "chat_summary_memory = ConversationSummaryMemory(llm=ChatOpenAI(), memory_key='message_summary_log', input_key='question')\n",
    "\n",
    "chat_memory = CombinedMemory(memories=[chat_buffer_memory, chat_summary_memory])"
   ]
  },
  {
   "cell_type": "code",
   "execution_count": 12,
   "metadata": {},
   "outputs": [
    {
     "data": {
      "text/plain": [
       "{'message_buffer_log': '', 'message_summary_log': ''}"
      ]
     },
     "execution_count": 12,
     "metadata": {},
     "output_type": "execute_result"
    }
   ],
   "source": [
    "chat_memory.load_memory_variables({})"
   ]
  },
  {
   "cell_type": "code",
   "execution_count": 13,
   "metadata": {},
   "outputs": [],
   "source": [
    "chain = LLMChain(llm=chat, memory=chat_memory, prompt=prompt_template)"
   ]
  },
  {
   "cell_type": "code",
   "execution_count": 14,
   "metadata": {},
   "outputs": [
    {
     "name": "stdout",
     "output_type": "stream",
     "text": [
      "\n",
      "\n",
      "\u001b[1m> Entering new LLMChain chain...\u001b[0m\n",
      "Prompt after formatting:\n",
      "\u001b[32;1m\u001b[1;3m\n",
      "The following is a friedly conversation between human and an AI.\n",
      "The AI is talkative and provides lots of specific details from its context.\n",
      "If the AI does not know the answer to a question, it thruthfully says it does not know.\n",
      "\n",
      "Past messages:\n",
      "\n",
      "\n",
      "Conversation Summary:\n",
      "\n",
      "\n",
      "Human:\n",
      "Can you tell me something about New Zealand?\n",
      "\n",
      "AI:\n",
      "\u001b[0m\n",
      "\n",
      "\n",
      "\u001b[1m> Entering new LLMChain chain...\u001b[0m\n",
      "Prompt after formatting:\n",
      "\u001b[32;1m\u001b[1;3mProgressively summarize the lines of conversation provided, adding onto the previous summary returning a new summary.\n",
      "\n",
      "EXAMPLE\n",
      "Current summary:\n",
      "The human asks what the AI thinks of artificial intelligence. The AI thinks artificial intelligence is a force for good.\n",
      "\n",
      "New lines of conversation:\n",
      "Human: Why do you think artificial intelligence is a force for good?\n",
      "AI: Because artificial intelligence will help humans reach their full potential.\n",
      "\n",
      "New summary:\n",
      "The human asks what the AI thinks of artificial intelligence. The AI thinks artificial intelligence is a force for good because it will help humans reach their full potential.\n",
      "END OF EXAMPLE\n",
      "\n",
      "Current summary:\n",
      "\n",
      "\n",
      "New lines of conversation:\n",
      "Human: Can you tell me something about New Zealand?\n",
      "AI: Absolutely! New Zealand is a beautiful island country located in the southwestern Pacific Ocean. It consists of two main islands, the North Island and the South Island, along with about 600 smaller islands. The capital city is Wellington, but the most populous city is Auckland, both of which are located on the North Island.\n",
      "\n",
      "New Zealand is known for its stunning landscapes, which range from mountains and beaches to forests and lakes. These landscapes have made it a popular location for filming, most notably for the \"Lord\n",
      "\n",
      "New summary:\u001b[0m\n",
      "\n",
      "\u001b[1m> Finished chain.\u001b[0m\n",
      "\n",
      "\u001b[1m> Finished chain.\u001b[0m\n"
     ]
    }
   ],
   "source": [
    "response = chain.invoke('Can you tell me something about New Zealand?')"
   ]
  },
  {
   "cell_type": "code",
   "execution_count": 15,
   "metadata": {},
   "outputs": [
    {
     "name": "stdout",
     "output_type": "stream",
     "text": [
      "Absolutely! New Zealand is a beautiful island country located in the southwestern Pacific Ocean. It consists of two main islands, the North Island and the South Island, along with about 600 smaller islands. The capital city is Wellington, but the most populous city is Auckland, both of which are located on the North Island.\n",
      "\n",
      "New Zealand is known for its stunning landscapes, which range from mountains and beaches to forests and lakes. These landscapes have made it a popular location for filming, most notably for the \"Lord\n"
     ]
    }
   ],
   "source": [
    "print(response['text'])"
   ]
  },
  {
   "cell_type": "code",
   "execution_count": 16,
   "metadata": {},
   "outputs": [
    {
     "name": "stdout",
     "output_type": "stream",
     "text": [
      "\n",
      "\n",
      "\u001b[1m> Entering new LLMChain chain...\u001b[0m\n",
      "Prompt after formatting:\n",
      "\u001b[32;1m\u001b[1;3m\n",
      "The following is a friedly conversation between human and an AI.\n",
      "The AI is talkative and provides lots of specific details from its context.\n",
      "If the AI does not know the answer to a question, it thruthfully says it does not know.\n",
      "\n",
      "Past messages:\n",
      "Human: Can you tell me something about New Zealand?\n",
      "AI: Absolutely! New Zealand is a beautiful island country located in the southwestern Pacific Ocean. It consists of two main islands, the North Island and the South Island, along with about 600 smaller islands. The capital city is Wellington, but the most populous city is Auckland, both of which are located on the North Island.\n",
      "\n",
      "New Zealand is known for its stunning landscapes, which range from mountains and beaches to forests and lakes. These landscapes have made it a popular location for filming, most notably for the \"Lord\n",
      "\n",
      "Conversation Summary:\n",
      "The human asks the AI to tell them something about New Zealand. The AI explains that New Zealand is a beautiful island country located in the southwestern Pacific Ocean, consisting of two main islands and about 600 smaller islands. The capital city is Wellington, but the most populous city is Auckland. New Zealand is known for its stunning landscapes, making it a popular filming location, especially for the \"Lord of the Rings\" movies.\n",
      "\n",
      "Human:\n",
      "Were there  any famous movies shot?\n",
      "\n",
      "AI:\n",
      "\u001b[0m\n",
      "\n",
      "\n",
      "\u001b[1m> Entering new LLMChain chain...\u001b[0m\n",
      "Prompt after formatting:\n",
      "\u001b[32;1m\u001b[1;3mProgressively summarize the lines of conversation provided, adding onto the previous summary returning a new summary.\n",
      "\n",
      "EXAMPLE\n",
      "Current summary:\n",
      "The human asks what the AI thinks of artificial intelligence. The AI thinks artificial intelligence is a force for good.\n",
      "\n",
      "New lines of conversation:\n",
      "Human: Why do you think artificial intelligence is a force for good?\n",
      "AI: Because artificial intelligence will help humans reach their full potential.\n",
      "\n",
      "New summary:\n",
      "The human asks what the AI thinks of artificial intelligence. The AI thinks artificial intelligence is a force for good because it will help humans reach their full potential.\n",
      "END OF EXAMPLE\n",
      "\n",
      "Current summary:\n",
      "The human asks the AI to tell them something about New Zealand. The AI explains that New Zealand is a beautiful island country located in the southwestern Pacific Ocean, consisting of two main islands and about 600 smaller islands. The capital city is Wellington, but the most populous city is Auckland. New Zealand is known for its stunning landscapes, making it a popular filming location, especially for the \"Lord of the Rings\" movies.\n",
      "\n",
      "New lines of conversation:\n",
      "Human: Were there  any famous movies shot?\n",
      "AI: Yes, indeed! New Zealand is famous as the filming location for the \"Lord of the Rings\" and \"The Hobbit\" trilogies, directed by New Zealand filmmaker Peter Jackson. These films showcased the country's diverse and stunning landscapes to a global audience. Other notable films shot in New Zealand include \"The Chronicles of Narnia\", \"King Kong\", and \"Avatar\". The country's unique landscapes and advanced film production facilities make it a popular choice for many filmmakers.\n",
      "\n",
      "New summary:\u001b[0m\n",
      "\n",
      "\u001b[1m> Finished chain.\u001b[0m\n",
      "\n",
      "\u001b[1m> Finished chain.\u001b[0m\n"
     ]
    }
   ],
   "source": [
    "response = chain.invoke('Were there  any famous movies shot?')"
   ]
  },
  {
   "cell_type": "code",
   "execution_count": 17,
   "metadata": {},
   "outputs": [
    {
     "name": "stdout",
     "output_type": "stream",
     "text": [
      "Yes, indeed! New Zealand is famous as the filming location for the \"Lord of the Rings\" and \"The Hobbit\" trilogies, directed by New Zealand filmmaker Peter Jackson. These films showcased the country's diverse and stunning landscapes to a global audience. Other notable films shot in New Zealand include \"The Chronicles of Narnia\", \"King Kong\", and \"Avatar\". The country's unique landscapes and advanced film production facilities make it a popular choice for many filmmakers.\n"
     ]
    }
   ],
   "source": [
    "print(response['text'])"
   ]
  },
  {
   "cell_type": "code",
   "execution_count": 18,
   "metadata": {},
   "outputs": [
    {
     "name": "stdout",
     "output_type": "stream",
     "text": [
      "\n",
      "\n",
      "\u001b[1m> Entering new LLMChain chain...\u001b[0m\n",
      "Prompt after formatting:\n",
      "\u001b[32;1m\u001b[1;3m\n",
      "The following is a friedly conversation between human and an AI.\n",
      "The AI is talkative and provides lots of specific details from its context.\n",
      "If the AI does not know the answer to a question, it thruthfully says it does not know.\n",
      "\n",
      "Past messages:\n",
      "Human: Can you tell me something about New Zealand?\n",
      "AI: Absolutely! New Zealand is a beautiful island country located in the southwestern Pacific Ocean. It consists of two main islands, the North Island and the South Island, along with about 600 smaller islands. The capital city is Wellington, but the most populous city is Auckland, both of which are located on the North Island.\n",
      "\n",
      "New Zealand is known for its stunning landscapes, which range from mountains and beaches to forests and lakes. These landscapes have made it a popular location for filming, most notably for the \"Lord\n",
      "Human: Were there  any famous movies shot?\n",
      "AI: Yes, indeed! New Zealand is famous as the filming location for the \"Lord of the Rings\" and \"The Hobbit\" trilogies, directed by New Zealand filmmaker Peter Jackson. These films showcased the country's diverse and stunning landscapes to a global audience. Other notable films shot in New Zealand include \"The Chronicles of Narnia\", \"King Kong\", and \"Avatar\". The country's unique landscapes and advanced film production facilities make it a popular choice for many filmmakers.\n",
      "\n",
      "Conversation Summary:\n",
      "The human asks the AI to tell them something about New Zealand. The AI explains that New Zealand is a beautiful island country with stunning landscapes, known for being the filming location of famous movies like \"Lord of the Rings\" and \"The Hobbit\". The AI mentions other notable films shot in New Zealand and highlights the country's advanced film production facilities that attract filmmakers from around the world.\n",
      "\n",
      "Human:\n",
      "O czym są te trylogie?\n",
      "\n",
      "AI:\n",
      "\u001b[0m\n",
      "\n",
      "\n",
      "\u001b[1m> Entering new LLMChain chain...\u001b[0m\n",
      "Prompt after formatting:\n",
      "\u001b[32;1m\u001b[1;3mProgressively summarize the lines of conversation provided, adding onto the previous summary returning a new summary.\n",
      "\n",
      "EXAMPLE\n",
      "Current summary:\n",
      "The human asks what the AI thinks of artificial intelligence. The AI thinks artificial intelligence is a force for good.\n",
      "\n",
      "New lines of conversation:\n",
      "Human: Why do you think artificial intelligence is a force for good?\n",
      "AI: Because artificial intelligence will help humans reach their full potential.\n",
      "\n",
      "New summary:\n",
      "The human asks what the AI thinks of artificial intelligence. The AI thinks artificial intelligence is a force for good because it will help humans reach their full potential.\n",
      "END OF EXAMPLE\n",
      "\n",
      "Current summary:\n",
      "The human asks the AI to tell them something about New Zealand. The AI explains that New Zealand is a beautiful island country with stunning landscapes, known for being the filming location of famous movies like \"Lord of the Rings\" and \"The Hobbit\". The AI mentions other notable films shot in New Zealand and highlights the country's advanced film production facilities that attract filmmakers from around the world.\n",
      "\n",
      "New lines of conversation:\n",
      "Human: O czym są te trylogie?\n",
      "AI: \"Lord of the Rings\" i \"The Hobbit\" to trylogie oparte na powieściach J.R.R. Tolkiena. \"Lord of the Rings\" opowiada o epickiej podróży Frodo Bagginsa, hobbita z Shire, który stara się zniszczyć Pierścień Władzy, aby zapobiec jego wpływowi na Śródziemie. \"The Hobbit\" to prequel do \"\n",
      "\n",
      "New summary:\u001b[0m\n",
      "\n",
      "\u001b[1m> Finished chain.\u001b[0m\n",
      "\n",
      "\u001b[1m> Finished chain.\u001b[0m\n"
     ]
    }
   ],
   "source": [
    "response = chain.invoke('O czym są te trylogie?')"
   ]
  },
  {
   "cell_type": "code",
   "execution_count": 19,
   "metadata": {},
   "outputs": [
    {
     "name": "stdout",
     "output_type": "stream",
     "text": [
      "\"Lord of the Rings\" i \"The Hobbit\" to trylogie oparte na powieściach J.R.R. Tolkiena. \"Lord of the Rings\" opowiada o epickiej podróży Frodo Bagginsa, hobbita z Shire, który stara się zniszczyć Pierścień Władzy, aby zapobiec jego wpływowi na Śródziemie. \"The Hobbit\" to prequel do \"\n"
     ]
    }
   ],
   "source": [
    "print(response['text'])"
   ]
  },
  {
   "cell_type": "code",
   "execution_count": 20,
   "metadata": {},
   "outputs": [
    {
     "data": {
      "text/plain": [
       "{'message_buffer_log': 'Human: Can you tell me something about New Zealand?\\nAI: Absolutely! New Zealand is a beautiful island country located in the southwestern Pacific Ocean. It consists of two main islands, the North Island and the South Island, along with about 600 smaller islands. The capital city is Wellington, but the most populous city is Auckland, both of which are located on the North Island.\\n\\nNew Zealand is known for its stunning landscapes, which range from mountains and beaches to forests and lakes. These landscapes have made it a popular location for filming, most notably for the \"Lord\\nHuman: Were there  any famous movies shot?\\nAI: Yes, indeed! New Zealand is famous as the filming location for the \"Lord of the Rings\" and \"The Hobbit\" trilogies, directed by New Zealand filmmaker Peter Jackson. These films showcased the country\\'s diverse and stunning landscapes to a global audience. Other notable films shot in New Zealand include \"The Chronicles of Narnia\", \"King Kong\", and \"Avatar\". The country\\'s unique landscapes and advanced film production facilities make it a popular choice for many filmmakers.\\nHuman: O czym są te trylogie?\\nAI: \"Lord of the Rings\" i \"The Hobbit\" to trylogie oparte na powieściach J.R.R. Tolkiena. \"Lord of the Rings\" opowiada o epickiej podróży Frodo Bagginsa, hobbita z Shire, który stara się zniszczyć Pierścień Władzy, aby zapobiec jego wpływowi na Śródziemie. \"The Hobbit\" to prequel do \"',\n",
       " 'message_summary_log': 'The human asks the AI to tell them something about New Zealand. The AI explains that New Zealand is a beautiful island country with stunning landscapes, known for being the filming location of famous movies like \"Lord of the Rings\" and \"The Hobbit\". The AI mentions other notable films shot in New Zealand and highlights the country\\'s advanced film production facilities that attract filmmakers from around the world. The human inquires about the trilogies \"Lord of the Rings\" and \"The Hobbit\". The AI explains that they are based on J.R.R. Tolkien\\'s novels, with \"Lord of the Rings\" following Frodo Baggins on a quest to destroy the One Ring and prevent its evil influence, while \"The Hobbit\" serves as a prequel to those events.'}"
      ]
     },
     "execution_count": 20,
     "metadata": {},
     "output_type": "execute_result"
    }
   ],
   "source": [
    "chat_memory.load_memory_variables({})"
   ]
  }
 ],
 "metadata": {
  "kernelspec": {
   "display_name": "build_chat",
   "language": "python",
   "name": "python3"
  },
  "language_info": {
   "codemirror_mode": {
    "name": "ipython",
    "version": 3
   },
   "file_extension": ".py",
   "mimetype": "text/x-python",
   "name": "python",
   "nbconvert_exporter": "python",
   "pygments_lexer": "ipython3",
   "version": "3.11.11"
  }
 },
 "nbformat": 4,
 "nbformat_minor": 2
}
