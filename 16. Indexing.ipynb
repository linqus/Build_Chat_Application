{
 "cells": [
  {
   "cell_type": "code",
   "execution_count": 18,
   "metadata": {},
   "outputs": [],
   "source": [
    "from langchain_openai.embeddings import OpenAIEmbeddings\n",
    "from langchain.document_loaders import Docx2txtLoader\n",
    "from langchain.text_splitter import MarkdownHeaderTextSplitter\n",
    "from langchain.text_splitter import CharacterTextSplitter\n",
    "\n",
    "from langchain_chroma import Chroma\n"
   ]
  },
  {
   "cell_type": "code",
   "execution_count": 13,
   "metadata": {},
   "outputs": [
    {
     "name": "stdout",
     "output_type": "stream",
     "text": [
      "20 page_content='Alright! So… Let’s discuss the not-so-obvious differences between the terms analysis and analytics. Due to the similarity of the words, some people believe they share the same meaning, and thus use them interchangeably. Technically, this isn’t correct. There is, in fact, a distinct difference between the two. And the reason for one often being used instead of the other is the lack of a transparent understanding of both. So, let’s clear this up, shall we? First, we will start with analysis.' metadata={'Title': 'Introduction to Data Science', 'Lesson': 'Analysis vs Analytics'}\n"
     ]
    }
   ],
   "source": [
    "loader = Docx2txtLoader('Introduction_to_Data_and_Data_Science mark.docx')\n",
    "documents = loader.load()\n",
    "\n",
    "md_splitter = MarkdownHeaderTextSplitter([('#', 'Title'), ('##', 'Lesson')])\n",
    "documents = md_splitter.split_text(documents[0].page_content)\n",
    "\n",
    "ch_splitter = CharacterTextSplitter(separator='.', chunk_size=500, chunk_overlap=50)\n",
    "documents = ch_splitter.split_documents(documents)\n",
    "\n",
    "for doc in documents:\n",
    "    doc.page_content = ' '.join(doc.page_content.split()) + '.'\n",
    "\n",
    "print(len(documents), documents[0])"
   ]
  },
  {
   "cell_type": "code",
   "execution_count": 26,
   "metadata": {},
   "outputs": [],
   "source": [
    "embedding = OpenAIEmbeddings(model='text-embedding-ada-002')\n",
    "vectorstore = Chroma.from_documents(documents, embedding, persist_directory='.chromadb_intro_to_data_science')\n"
   ]
  },
  {
   "cell_type": "code",
   "execution_count": 25,
   "metadata": {},
   "outputs": [
    {
     "data": {
      "text/plain": [
       "[Document(metadata={'Lesson': 'Programming Languages & Software Employed in Data Science - All the Tools You Need', 'Title': 'Introduction to Data Science'}, page_content='Alright! So… How are the techniques used in data, business intelligence, or predictive analytics applied in real life? Certainly, with the help of computers. You can basically split the relevant tools into two categories—programming languages and software. Knowing a programming language enables you to devise programs that can execute specific operations. Moreover, you can reuse these programs whenever you need to execute the same action.'),\n",
       " Document(metadata={'Lesson': 'Programming Languages & Software Employed in Data Science - All the Tools You Need', 'Title': 'Introduction to Data Science'}, page_content='As you can see from the infographic, R, and Python are the two most popular tools across all columns. Their biggest advantage is that they can manipulate data and are integrated within multiple data and data science software platforms. They are not just suitable for mathematical and statistical computations. In other words, R, and Python are adaptable. They can solve a wide variety of business and data-related problems from beginning to the end.'),\n",
       " Document(metadata={'Lesson': 'Programming Languages & Software Employed in Data Science - All the Tools You Need', 'Title': 'Introduction to Data Science'}, page_content='Their smaller scope does not make them less useful, in fact, just the opposite—they are a lot easier to learn and be adopted by others. You have already heard of several of those. Because of its ability to do relatively complex computations and good visualizations quickly, Excel is a tool applicable to more than one category—traditional data, BI, and Data Science. Similarly, SPSS is a very famous tool for working with traditional data and applying statistical analysis.')]"
      ]
     },
     "execution_count": 25,
     "metadata": {},
     "output_type": "execute_result"
    }
   ],
   "source": [
    "ret = vectorstore.similarity_search('Two categories of tools in data science', k=3)\n",
    "ret"
   ]
  },
  {
   "cell_type": "code",
   "execution_count": 28,
   "metadata": {},
   "outputs": [
    {
     "data": {
      "text/plain": [
       "[Document(metadata={'Lesson': 'Programming Languages & Software Employed in Data Science - All the Tools You Need', 'Title': 'Introduction to Data Science'}, page_content='Alright! So… How are the techniques used in data, business intelligence, or predictive analytics applied in real life? Certainly, with the help of computers. You can basically split the relevant tools into two categories—programming languages and software. Knowing a programming language enables you to devise programs that can execute specific operations. Moreover, you can reuse these programs whenever you need to execute the same action.'),\n",
       " Document(metadata={'Lesson': 'Programming Languages & Software Employed in Data Science - All the Tools You Need', 'Title': 'Introduction to Data Science'}, page_content='As you can see from the infographic, R, and Python are the two most popular tools across all columns. Their biggest advantage is that they can manipulate data and are integrated within multiple data and data science software platforms. They are not just suitable for mathematical and statistical computations. In other words, R, and Python are adaptable. They can solve a wide variety of business and data-related problems from beginning to the end.'),\n",
       " Document(metadata={'Lesson': 'Programming Languages & Software Employed in Data Science - All the Tools You Need', 'Title': 'Introduction to Data Science'}, page_content='Their smaller scope does not make them less useful, in fact, just the opposite—they are a lot easier to learn and be adopted by others. You have already heard of several of those. Because of its ability to do relatively complex computations and good visualizations quickly, Excel is a tool applicable to more than one category—traditional data, BI, and Data Science. Similarly, SPSS is a very famous tool for working with traditional data and applying statistical analysis.')]"
      ]
     },
     "execution_count": 28,
     "metadata": {},
     "output_type": "execute_result"
    }
   ],
   "source": [
    "vec_from_folder = Chroma(persist_directory='.chromadb_intro_to_data_science/', embedding_function=embedding)\n",
    "ret = vec_from_folder.similarity_search('Two categories of tools in data science', k=3)\n",
    "ret"
   ]
  }
 ],
 "metadata": {
  "kernelspec": {
   "display_name": "build_chat",
   "language": "python",
   "name": "python3"
  },
  "language_info": {
   "codemirror_mode": {
    "name": "ipython",
    "version": 3
   },
   "file_extension": ".py",
   "mimetype": "text/x-python",
   "name": "python",
   "nbconvert_exporter": "python",
   "pygments_lexer": "ipython3",
   "version": "3.11.11"
  }
 },
 "nbformat": 4,
 "nbformat_minor": 2
}
