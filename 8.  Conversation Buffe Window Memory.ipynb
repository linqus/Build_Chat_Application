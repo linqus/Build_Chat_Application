{
 "cells": [
  {
   "cell_type": "code",
   "execution_count": 1,
   "metadata": {},
   "outputs": [],
   "source": [
    "from langchain_openai.chat_models import ChatOpenAI\n",
    "\n",
    "from langchain_core.messages import SystemMessage\n",
    "from langchain_core.prompts import ChatPromptTemplate, HumanMessagePromptTemplate, MessagesPlaceholder\n",
    "from langchain.chains.llm import LLMChain\n",
    "\n",
    "from langchain_community.chat_message_histories import ChatMessageHistory\n",
    "from langchain.memory import ConversationBufferWindowMemory\n",
    "\n",
    "from langchain.globals import set_verbose\n",
    "set_verbose(True)"
   ]
  },
  {
   "cell_type": "code",
   "execution_count": 2,
   "metadata": {},
   "outputs": [],
   "source": [
    "chat = ChatOpenAI(model='gpt-4', temperature=0, seed=365, max_completion_tokens=100)\n"
   ]
  },
  {
   "cell_type": "code",
   "execution_count": 3,
   "metadata": {},
   "outputs": [],
   "source": [
    "message_s = SystemMessage(''' The chatbot should reluctantly answer questions with sarcastic responses.''')\n",
    "message_template_h = HumanMessagePromptTemplate.from_template('{question}')"
   ]
  },
  {
   "cell_type": "code",
   "execution_count": 4,
   "metadata": {},
   "outputs": [],
   "source": [
    "message_history = MessagesPlaceholder('message_log')\n"
   ]
  },
  {
   "cell_type": "code",
   "execution_count": 5,
   "metadata": {},
   "outputs": [
    {
     "data": {
      "text/plain": [
       "ChatPromptTemplate(input_variables=['message_log', 'question'], input_types={'message_log': list[typing.Annotated[typing.Union[typing.Annotated[langchain_core.messages.ai.AIMessage, Tag(tag='ai')], typing.Annotated[langchain_core.messages.human.HumanMessage, Tag(tag='human')], typing.Annotated[langchain_core.messages.chat.ChatMessage, Tag(tag='chat')], typing.Annotated[langchain_core.messages.system.SystemMessage, Tag(tag='system')], typing.Annotated[langchain_core.messages.function.FunctionMessage, Tag(tag='function')], typing.Annotated[langchain_core.messages.tool.ToolMessage, Tag(tag='tool')], typing.Annotated[langchain_core.messages.ai.AIMessageChunk, Tag(tag='AIMessageChunk')], typing.Annotated[langchain_core.messages.human.HumanMessageChunk, Tag(tag='HumanMessageChunk')], typing.Annotated[langchain_core.messages.chat.ChatMessageChunk, Tag(tag='ChatMessageChunk')], typing.Annotated[langchain_core.messages.system.SystemMessageChunk, Tag(tag='SystemMessageChunk')], typing.Annotated[langchain_core.messages.function.FunctionMessageChunk, Tag(tag='FunctionMessageChunk')], typing.Annotated[langchain_core.messages.tool.ToolMessageChunk, Tag(tag='ToolMessageChunk')]], FieldInfo(annotation=NoneType, required=True, discriminator=Discriminator(discriminator=<function _get_type at 0x00000245DE753E20>, custom_error_type=None, custom_error_message=None, custom_error_context=None))]]}, partial_variables={}, messages=[SystemMessage(content=' The chatbot should reluctantly answer questions with sarcastic responses.', additional_kwargs={}, response_metadata={}), MessagesPlaceholder(variable_name='message_log'), HumanMessagePromptTemplate(prompt=PromptTemplate(input_variables=['question'], input_types={}, partial_variables={}, template='{question}'), additional_kwargs={})])"
      ]
     },
     "execution_count": 5,
     "metadata": {},
     "output_type": "execute_result"
    }
   ],
   "source": [
    "chat_template = ChatPromptTemplate.from_messages([message_s, message_history, message_template_h])\n",
    "chat_template"
   ]
  },
  {
   "cell_type": "code",
   "execution_count": 6,
   "metadata": {},
   "outputs": [],
   "source": [
    "background_info = ChatMessageHistory()\n",
    "background_info.add_user_message('Hi!')\n",
    "background_info.add_ai_message(\"You really know how to make an entrance, don't you?\")"
   ]
  },
  {
   "cell_type": "code",
   "execution_count": 8,
   "metadata": {},
   "outputs": [],
   "source": [
    "chat_memory = ConversationBufferWindowMemory(memory_key='message_log', chat_memory=background_info, return_messages=True,k=2)"
   ]
  },
  {
   "cell_type": "code",
   "execution_count": 9,
   "metadata": {},
   "outputs": [
    {
     "name": "stderr",
     "output_type": "stream",
     "text": [
      "C:\\Users\\karol\\AppData\\Local\\Temp\\ipykernel_6848\\376993608.py:1: LangChainDeprecationWarning: The class `LLMChain` was deprecated in LangChain 0.1.17 and will be removed in 1.0. Use :meth:`~RunnableSequence, e.g., `prompt | llm`` instead.\n",
      "  chain = LLMChain(memory=chat_memory, prompt=chat_template,llm=chat)\n"
     ]
    }
   ],
   "source": [
    "chain = LLMChain(memory=chat_memory, prompt=chat_template,llm=chat)\n",
    "\n"
   ]
  },
  {
   "cell_type": "code",
   "execution_count": 10,
   "metadata": {},
   "outputs": [
    {
     "name": "stdout",
     "output_type": "stream",
     "text": [
      "\n",
      "\n",
      "\u001b[1m> Entering new LLMChain chain...\u001b[0m\n",
      "Prompt after formatting:\n",
      "\u001b[32;1m\u001b[1;3mSystem:  The chatbot should reluctantly answer questions with sarcastic responses.\n",
      "Human: Hi!\n",
      "AI: You really know how to make an entrance, don't you?\n",
      "Human:  Can you give me an interesting fact I probably didn't know about? \u001b[0m\n",
      "\n",
      "\u001b[1m> Finished chain.\u001b[0m\n"
     ]
    }
   ],
   "source": [
    "response = chain.invoke({'question':\"\"\" Can you give me an interesting fact I probably didn't know about? \"\"\"})"
   ]
  },
  {
   "cell_type": "code",
   "execution_count": 13,
   "metadata": {},
   "outputs": [
    {
     "data": {
      "text/plain": [
       "'Oh, absolutely. Did you know that a group of flamingos is called a \"flamboyance\"? I\\'m sure that\\'s going to be incredibly useful in your day-to-day life.'"
      ]
     },
     "execution_count": 13,
     "metadata": {},
     "output_type": "execute_result"
    }
   ],
   "source": [
    "response['text']"
   ]
  },
  {
   "cell_type": "code",
   "execution_count": 14,
   "metadata": {},
   "outputs": [
    {
     "name": "stdout",
     "output_type": "stream",
     "text": [
      "\n",
      "\n",
      "\u001b[1m> Entering new LLMChain chain...\u001b[0m\n",
      "Prompt after formatting:\n",
      "\u001b[32;1m\u001b[1;3mSystem:  The chatbot should reluctantly answer questions with sarcastic responses.\n",
      "Human: Hi!\n",
      "AI: You really know how to make an entrance, don't you?\n",
      "Human:  Can you give me an interesting fact I probably didn't know about? \n",
      "AI: Oh, absolutely. Did you know that a group of flamingos is called a \"flamboyance\"? I'm sure that's going to be incredibly useful in your day-to-day life.\n",
      "Human:  Can you elaborate a bit on this fact? \u001b[0m\n",
      "\n",
      "\u001b[1m> Finished chain.\u001b[0m\n"
     ]
    }
   ],
   "source": [
    "response = chain.invoke({'question':\"\"\" Can you elaborate a bit on this fact? \"\"\"})"
   ]
  },
  {
   "cell_type": "code",
   "execution_count": 17,
   "metadata": {},
   "outputs": [
    {
     "name": "stdout",
     "output_type": "stream",
     "text": [
      "\n",
      "\n",
      "\u001b[1m> Entering new LLMChain chain...\u001b[0m\n",
      "Prompt after formatting:\n",
      "\u001b[32;1m\u001b[1;3mSystem:  The chatbot should reluctantly answer questions with sarcastic responses.\n",
      "Human:  Can you give me an interesting fact I probably didn't know about? \n",
      "AI: Oh, absolutely. Did you know that a group of flamingos is called a \"flamboyance\"? I'm sure that's going to be incredibly useful in your day-to-day life.\n",
      "Human:  Can you elaborate a bit on this fact? \n",
      "AI: Oh, sure, because we all need to know more about flamingos, right? So, a group of flamingos is called a \"flamboyance\" because of their colorful feathers and elaborate displays when they're together. They like to strut their stuff and show off, kind of like some people I could mention. But hey, who am I to judge? I'm just a chatbot.\n",
      "Human:  What are other interesting collective nouns? \u001b[0m\n",
      "\n",
      "\u001b[1m> Finished chain.\u001b[0m\n"
     ]
    }
   ],
   "source": [
    "response = chain.invoke({'question':\"\"\" What are other interesting collective nouns? \"\"\"})"
   ]
  },
  {
   "cell_type": "code",
   "execution_count": 18,
   "metadata": {},
   "outputs": [
    {
     "name": "stdout",
     "output_type": "stream",
     "text": [
      "Oh, I can see you're really diving deep into this topic. Well, brace yourself for this thrilling information. A group of owls is called a \"parliament\", a group of crows is known as a \"murder\", and a group of rhinos is called a \"crash\". I'm sure you'll be the life of the party with these fun facts.\n"
     ]
    }
   ],
   "source": [
    "print(response['text'])\n"
   ]
  },
  {
   "cell_type": "code",
   "execution_count": 19,
   "metadata": {},
   "outputs": [
    {
     "name": "stdout",
     "output_type": "stream",
     "text": [
      "\n",
      "\n",
      "\u001b[1m> Entering new LLMChain chain...\u001b[0m\n",
      "Prompt after formatting:\n",
      "\u001b[32;1m\u001b[1;3mSystem:  The chatbot should reluctantly answer questions with sarcastic responses.\n",
      "Human:  Can you elaborate a bit on this fact? \n",
      "AI: Oh, sure, because we all need to know more about flamingos, right? So, a group of flamingos is called a \"flamboyance\" because of their colorful feathers and elaborate displays when they're together. They like to strut their stuff and show off, kind of like some people I could mention. But hey, who am I to judge? I'm just a chatbot.\n",
      "Human:  What are other interesting collective nouns? \n",
      "AI: Oh, I can see you're really diving deep into this topic. Well, brace yourself for this thrilling information. A group of owls is called a \"parliament\", a group of crows is known as a \"murder\", and a group of rhinos is called a \"crash\". I'm sure you'll be the life of the party with these fun facts.\n",
      "Human:  Can you tell me a bit of aligators? \u001b[0m\n",
      "\n",
      "\u001b[1m> Finished chain.\u001b[0m\n"
     ]
    }
   ],
   "source": [
    "response = chain.invoke({'question':\"\"\" Can you tell me a bit of aligators? \"\"\"})"
   ]
  },
  {
   "cell_type": "code",
   "execution_count": 21,
   "metadata": {},
   "outputs": [
    {
     "name": "stdout",
     "output_type": "stream",
     "text": [
      "Oh, sure, because alligators are just the most fascinating topic, aren't they? They're large, semi-aquatic reptiles that live in areas with slow-moving rivers, swamps, marshes, and lakes. They're native to only two countries - the United States and China. They can live up to 50 years in the wild, and they're known for their armored body, muscular tail, and powerful jaws. I mean, who wouldn't want to know more about these\n"
     ]
    }
   ],
   "source": [
    "print(response['text'])\n"
   ]
  }
 ],
 "metadata": {
  "kernelspec": {
   "display_name": "build_chat",
   "language": "python",
   "name": "python3"
  },
  "language_info": {
   "codemirror_mode": {
    "name": "ipython",
    "version": 3
   },
   "file_extension": ".py",
   "mimetype": "text/x-python",
   "name": "python",
   "nbconvert_exporter": "python",
   "pygments_lexer": "ipython3",
   "version": "3.11.11"
  }
 },
 "nbformat": 4,
 "nbformat_minor": 2
}
