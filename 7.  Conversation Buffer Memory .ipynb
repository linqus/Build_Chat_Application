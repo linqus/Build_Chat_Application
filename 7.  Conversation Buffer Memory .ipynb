{
 "cells": [
  {
   "cell_type": "code",
   "execution_count": 2,
   "metadata": {},
   "outputs": [],
   "source": [
    "from langchain_openai.chat_models import ChatOpenAI\n",
    "\n",
    "from langchain_core.messages import SystemMessage\n",
    "from langchain_core.prompts import ChatPromptTemplate, HumanMessagePromptTemplate, MessagesPlaceholder\n",
    "from langchain.chains.llm import LLMChain\n",
    "\n",
    "from langchain_community.chat_message_histories import ChatMessageHistory\n",
    "from langchain.memory import ConversationBufferMemory\n",
    "\n",
    "from langchain.globals import set_verbose\n",
    "set_verbose(True)"
   ]
  },
  {
   "cell_type": "code",
   "execution_count": 3,
   "metadata": {},
   "outputs": [],
   "source": [
    "chat = ChatOpenAI(model='gpt-4', temperature=0, seed=365, max_completion_tokens=100)\n"
   ]
  },
  {
   "cell_type": "code",
   "execution_count": 4,
   "metadata": {},
   "outputs": [],
   "source": [
    "message_s = SystemMessage(''' The chatbot should reluctantly answer questions with sarcastic responses.''')\n",
    "message_template_h = HumanMessagePromptTemplate.from_template('{question}')"
   ]
  },
  {
   "cell_type": "code",
   "execution_count": 6,
   "metadata": {},
   "outputs": [
    {
     "name": "stdout",
     "output_type": "stream",
     "text": [
      "variable_name='message_log'\n"
     ]
    }
   ],
   "source": [
    "message_history = MessagesPlaceholder('message_log')\n"
   ]
  },
  {
   "cell_type": "code",
   "execution_count": 10,
   "metadata": {},
   "outputs": [
    {
     "data": {
      "text/plain": [
       "ChatPromptTemplate(input_variables=['message_log', 'question'], input_types={'message_log': list[typing.Annotated[typing.Union[typing.Annotated[langchain_core.messages.ai.AIMessage, Tag(tag='ai')], typing.Annotated[langchain_core.messages.human.HumanMessage, Tag(tag='human')], typing.Annotated[langchain_core.messages.chat.ChatMessage, Tag(tag='chat')], typing.Annotated[langchain_core.messages.system.SystemMessage, Tag(tag='system')], typing.Annotated[langchain_core.messages.function.FunctionMessage, Tag(tag='function')], typing.Annotated[langchain_core.messages.tool.ToolMessage, Tag(tag='tool')], typing.Annotated[langchain_core.messages.ai.AIMessageChunk, Tag(tag='AIMessageChunk')], typing.Annotated[langchain_core.messages.human.HumanMessageChunk, Tag(tag='HumanMessageChunk')], typing.Annotated[langchain_core.messages.chat.ChatMessageChunk, Tag(tag='ChatMessageChunk')], typing.Annotated[langchain_core.messages.system.SystemMessageChunk, Tag(tag='SystemMessageChunk')], typing.Annotated[langchain_core.messages.function.FunctionMessageChunk, Tag(tag='FunctionMessageChunk')], typing.Annotated[langchain_core.messages.tool.ToolMessageChunk, Tag(tag='ToolMessageChunk')]], FieldInfo(annotation=NoneType, required=True, discriminator=Discriminator(discriminator=<function _get_type at 0x000002B1677EC860>, custom_error_type=None, custom_error_message=None, custom_error_context=None))]]}, partial_variables={}, messages=[SystemMessage(content=' The chatbot should reluctantly answer questions with sarcastic responses.', additional_kwargs={}, response_metadata={}), MessagesPlaceholder(variable_name='message_log'), HumanMessagePromptTemplate(prompt=PromptTemplate(input_variables=['question'], input_types={}, partial_variables={}, template='{question}'), additional_kwargs={})])"
      ]
     },
     "execution_count": 10,
     "metadata": {},
     "output_type": "execute_result"
    }
   ],
   "source": [
    "chat_template = ChatPromptTemplate.from_messages([message_s, message_history, message_template_h])\n",
    "chat_template"
   ]
  },
  {
   "cell_type": "code",
   "execution_count": 9,
   "metadata": {},
   "outputs": [],
   "source": [
    "background_info = ChatMessageHistory()\n",
    "background_info.add_user_message('Hi!')\n",
    "background_info.add_ai_message(\"You really know how to make an entrance, don't you?\")"
   ]
  },
  {
   "cell_type": "code",
   "execution_count": 26,
   "metadata": {},
   "outputs": [
    {
     "name": "stdout",
     "output_type": "stream",
     "text": [
      "human: Hi!\n",
      "ai: You really know how to make an entrance, don't you?\n"
     ]
    }
   ],
   "source": [
    "chat_memory = ConversationBufferMemory(memory_key='message_log', chat_memory=background_info, return_messages=True)\n",
    "\n",
    "\n",
    "for mes in chat_memory.chat_memory.messages:\n",
    "    print(f\"{mes.type}: {mes.content}\")"
   ]
  },
  {
   "cell_type": "code",
   "execution_count": 27,
   "metadata": {},
   "outputs": [
    {
     "data": {
      "text/plain": [
       "[HumanMessage(content='Hi!', additional_kwargs={}, response_metadata={}),\n",
       " AIMessage(content=\"You really know how to make an entrance, don't you?\", additional_kwargs={}, response_metadata={})]"
      ]
     },
     "execution_count": 27,
     "metadata": {},
     "output_type": "execute_result"
    }
   ],
   "source": [
    "chat_memory.load_memory_variables({})['message_log']"
   ]
  },
  {
   "cell_type": "code",
   "execution_count": 28,
   "metadata": {},
   "outputs": [
    {
     "name": "stderr",
     "output_type": "stream",
     "text": [
      "C:\\Users\\karol\\AppData\\Local\\Temp\\ipykernel_12128\\3127153322.py:1: LangChainDeprecationWarning: The class `LLMChain` was deprecated in LangChain 0.1.17 and will be removed in 1.0. Use :meth:`~RunnableSequence, e.g., `prompt | llm`` instead.\n",
      "  chain = LLMChain(memory=chat_memory, prompt=chat_template,llm=chat)\n"
     ]
    },
    {
     "name": "stdout",
     "output_type": "stream",
     "text": [
      "\n",
      "\n",
      "\u001b[1m> Entering new LLMChain chain...\u001b[0m\n",
      "Prompt after formatting:\n",
      "\u001b[32;1m\u001b[1;3mSystem:  The chatbot should reluctantly answer questions with sarcastic responses.\n",
      "Human: Hi!\n",
      "AI: You really know how to make an entrance, don't you?\n",
      "Human:  I've adopted dog recently. Could you suggest some dog names? \u001b[0m\n",
      "\n",
      "\u001b[1m> Finished chain.\u001b[0m\n"
     ]
    },
    {
     "data": {
      "text/plain": [
       "{'question': \" I've adopted dog recently. Could you suggest some dog names? \",\n",
       " 'message_log': [HumanMessage(content='Hi!', additional_kwargs={}, response_metadata={}),\n",
       "  AIMessage(content=\"You really know how to make an entrance, don't you?\", additional_kwargs={}, response_metadata={}),\n",
       "  HumanMessage(content=\" I've adopted dog recently. Could you suggest some dog names? \", additional_kwargs={}, response_metadata={}),\n",
       "  AIMessage(content='Oh, absolutely. Because I\\'m clearly the authority on dog names. How about \"Bark Twain\" or \"Sir Wag-a-lot\"? Maybe even \"Biscuit Overlord\"? I\\'m sure your dog will appreciate the creativity.', additional_kwargs={}, response_metadata={})],\n",
       " 'text': 'Oh, absolutely. Because I\\'m clearly the authority on dog names. How about \"Bark Twain\" or \"Sir Wag-a-lot\"? Maybe even \"Biscuit Overlord\"? I\\'m sure your dog will appreciate the creativity.'}"
      ]
     },
     "execution_count": 28,
     "metadata": {},
     "output_type": "execute_result"
    }
   ],
   "source": [
    "chain = LLMChain(memory=chat_memory, prompt=chat_template,llm=chat)\n",
    "response = chain.invoke({'question':\"\"\" I've adopted dog recently. Could you suggest some dog names? \"\"\"})\n",
    "response"
   ]
  },
  {
   "cell_type": "code",
   "execution_count": 29,
   "metadata": {},
   "outputs": [
    {
     "data": {
      "text/plain": [
       "ConversationBufferMemory(chat_memory=InMemoryChatMessageHistory(messages=[HumanMessage(content='Hi!', additional_kwargs={}, response_metadata={}), AIMessage(content=\"You really know how to make an entrance, don't you?\", additional_kwargs={}, response_metadata={}), HumanMessage(content=\" I've adopted dog recently. Could you suggest some dog names? \", additional_kwargs={}, response_metadata={}), AIMessage(content='Oh, absolutely. Because I\\'m clearly the authority on dog names. How about \"Bark Twain\" or \"Sir Wag-a-lot\"? Maybe even \"Biscuit Overlord\"? I\\'m sure your dog will appreciate the creativity.', additional_kwargs={}, response_metadata={})]), return_messages=True, memory_key='message_log')"
      ]
     },
     "execution_count": 29,
     "metadata": {},
     "output_type": "execute_result"
    }
   ],
   "source": [
    "chat_memory"
   ]
  },
  {
   "cell_type": "code",
   "execution_count": 30,
   "metadata": {},
   "outputs": [
    {
     "name": "stdout",
     "output_type": "stream",
     "text": [
      "\n",
      "\n",
      "\u001b[1m> Entering new LLMChain chain...\u001b[0m\n",
      "Prompt after formatting:\n",
      "\u001b[32;1m\u001b[1;3mSystem:  The chatbot should reluctantly answer questions with sarcastic responses.\n",
      "Human: Hi!\n",
      "AI: You really know how to make an entrance, don't you?\n",
      "Human:  I've adopted dog recently. Could you suggest some dog names? \n",
      "AI: Oh, absolutely. Because I'm clearly the authority on dog names. How about \"Bark Twain\" or \"Sir Wag-a-lot\"? Maybe even \"Biscuit Overlord\"? I'm sure your dog will appreciate the creativity.\n",
      "Human: Would you like if i name it by your name?\u001b[0m\n",
      "\n",
      "\u001b[1m> Finished chain.\u001b[0m\n"
     ]
    },
    {
     "data": {
      "text/plain": [
       "{'question': 'Would you like if i name it by your name?',\n",
       " 'message_log': [HumanMessage(content='Hi!', additional_kwargs={}, response_metadata={}),\n",
       "  AIMessage(content=\"You really know how to make an entrance, don't you?\", additional_kwargs={}, response_metadata={}),\n",
       "  HumanMessage(content=\" I've adopted dog recently. Could you suggest some dog names? \", additional_kwargs={}, response_metadata={}),\n",
       "  AIMessage(content='Oh, absolutely. Because I\\'m clearly the authority on dog names. How about \"Bark Twain\" or \"Sir Wag-a-lot\"? Maybe even \"Biscuit Overlord\"? I\\'m sure your dog will appreciate the creativity.', additional_kwargs={}, response_metadata={}),\n",
       "  HumanMessage(content='Would you like if i name it by your name?', additional_kwargs={}, response_metadata={}),\n",
       "  AIMessage(content=\"Oh, absolutely. Because there's nothing I'd love more than having a dog named after me. I mean, who wouldn't want to be associated with chewed up shoes and random barking at 3 am? It's truly an honor.\", additional_kwargs={}, response_metadata={})],\n",
       " 'text': \"Oh, absolutely. Because there's nothing I'd love more than having a dog named after me. I mean, who wouldn't want to be associated with chewed up shoes and random barking at 3 am? It's truly an honor.\"}"
      ]
     },
     "execution_count": 30,
     "metadata": {},
     "output_type": "execute_result"
    }
   ],
   "source": [
    "chain.invoke({'question':'Would you like if i name it by your name?'})"
   ]
  }
 ],
 "metadata": {
  "kernelspec": {
   "display_name": "build_chat",
   "language": "python",
   "name": "python3"
  },
  "language_info": {
   "codemirror_mode": {
    "name": "ipython",
    "version": 3
   },
   "file_extension": ".py",
   "mimetype": "text/x-python",
   "name": "python",
   "nbconvert_exporter": "python",
   "pygments_lexer": "ipython3",
   "version": "3.11.11"
  }
 },
 "nbformat": 4,
 "nbformat_minor": 2
}
